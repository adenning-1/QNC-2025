{
  "nbformat": 4,
  "nbformat_minor": 0,
  "metadata": {
    "colab": {
      "provenance": [],
      "authorship_tag": "ABX9TyONLMR6LclkQOl/K/f3Rf5y",
      "include_colab_link": true
    },
    "kernelspec": {
      "name": "python3",
      "display_name": "Python 3"
    },
    "language_info": {
      "name": "python"
    }
  },
  "cells": [
    {
      "cell_type": "markdown",
      "metadata": {
        "id": "view-in-github",
        "colab_type": "text"
      },
      "source": [
        "<a href=\"https://colab.research.google.com/github/adenning-1/QNC-2025/blob/main/ProbabilityDistributionsI_HW.ipynb\" target=\"_parent\"><img src=\"https://colab.research.google.com/assets/colab-badge.svg\" alt=\"Open In Colab\"/></a>"
      ]
    },
    {
      "cell_type": "markdown",
      "source": [
        "The paper I've selected is here: https://alz-journals.onlinelibrary.wiley.com/doi/10.1002/alz.70346 from a fellow in my lab. This paper examined flortaucipir PET imaging to compare spatial extent and magnitude of tau pathology in AD. They used a two-Gaussian distribution model to separate off-target and on-target binding. The authors suggest one Gaussian curve fit for non-pathological regions considered tau negative with a low SUVR, and a second fit for pathologic regions considered tau positive with a higher SUVR."
      ],
      "metadata": {
        "id": "RjdHVthtYOJB"
      }
    },
    {
      "cell_type": "code",
      "source": [
        "# Create two overlapping distributions and add up to create the two Gaussian model.\n",
        "import numpy as np\n",
        "import scipy.stats as st\n",
        "import matplotlib.pyplot as plt\n",
        "\n",
        "\n",
        "# Left peak:\n",
        "mu1 = 1\n",
        "sigma1 = 0.3\n",
        "n1 = 10000\n",
        "\n",
        "# Right peak\n",
        "mu2 = 1.9\n",
        "sigma2 = 0.5\n",
        "n2 = 6000\n",
        "\n",
        "left_peak = np.random.normal(mu1, sigma1, n1)\n",
        "right_peak = np.random.normal(mu2, sigma2, n2)\n",
        "\n",
        "samples = np.concatenate([left_peak, right_peak])\n",
        "\n",
        "# plot histogram for a given number of bins (using trapz to approximate pdf)\n",
        "plt.hist(samples, bins = 30)\n",
        "\n"
      ],
      "metadata": {
        "colab": {
          "base_uri": "https://localhost:8080/",
          "height": 662
        },
        "id": "YM51kYYxvjMM",
        "outputId": "ca2d33d4-4cbd-4648-ccab-d05f8a47dc51"
      },
      "execution_count": 52,
      "outputs": [
        {
          "output_type": "execute_result",
          "data": {
            "text/plain": [
              "(array([5.000e+00, 1.300e+01, 4.200e+01, 1.370e+02, 3.510e+02, 6.980e+02,\n",
              "        1.189e+03, 1.462e+03, 1.853e+03, 1.800e+03, 1.522e+03, 1.220e+03,\n",
              "        9.190e+02, 7.020e+02, 6.950e+02, 6.940e+02, 6.310e+02, 5.550e+02,\n",
              "        4.410e+02, 3.800e+02, 2.690e+02, 1.630e+02, 1.150e+02, 7.200e+01,\n",
              "        4.100e+01, 1.700e+01, 7.000e+00, 4.000e+00, 1.000e+00, 2.000e+00]),\n",
              " array([-0.1473493 , -0.0156344 ,  0.1160805 ,  0.2477954 ,  0.37951031,\n",
              "         0.51122521,  0.64294011,  0.77465501,  0.90636991,  1.03808481,\n",
              "         1.16979971,  1.30151462,  1.43322952,  1.56494442,  1.69665932,\n",
              "         1.82837422,  1.96008912,  2.09180402,  2.22351893,  2.35523383,\n",
              "         2.48694873,  2.61866363,  2.75037853,  2.88209343,  3.01380834,\n",
              "         3.14552324,  3.27723814,  3.40895304,  3.54066794,  3.67238284,\n",
              "         3.80409774]),\n",
              " <BarContainer object of 30 artists>)"
            ]
          },
          "metadata": {},
          "execution_count": 52
        },
        {
          "output_type": "display_data",
          "data": {
            "text/plain": [
              "<Figure size 640x480 with 1 Axes>"
            ],
            "image/png": "[encoded data removed]"
          },
          "metadata": {}
        }
      ]
    }
  ]
}