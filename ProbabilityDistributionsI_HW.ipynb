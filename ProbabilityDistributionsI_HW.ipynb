{
  "nbformat": 4,
  "nbformat_minor": 0,
  "metadata": {
    "colab": {
      "provenance": [],
      "authorship_tag": "ABX9TyM2h3S2Ws748AcbNo2NcRff",
      "include_colab_link": true
    },
    "kernelspec": {
      "name": "python3",
      "display_name": "Python 3"
    },
    "language_info": {
      "name": "python"
    }
  },
  "cells": [
    {
      "cell_type": "markdown",
      "metadata": {
        "id": "view-in-github",
        "colab_type": "text"
      },
      "source": [
        "<a href=\"https://colab.research.google.com/github/adenning-1/QNC-2025/blob/main/ProbabilityDistributionsI_HW.ipynb\" target=\"_parent\"><img src=\"https://colab.research.google.com/assets/colab-badge.svg\" alt=\"Open In Colab\"/></a>"
      ]
    },
    {
      "cell_type": "markdown",
      "source": [
        "The paper I've selected is here: https://alz-journals.onlinelibrary.wiley.com/doi/10.1002/alz.70346 from a fellow in my lab. This paper examined flortaucipir PET imaging to compare spatial extent and magnitude of tau pathology in AD. This paper analyzed mean SUVR across participants using a two-Gaussian model, suggesting one Gaussian curve fit for non-pathological regions considered tau negative, and a second fit for pathologic regions considered tau positive."
      ],
      "metadata": {
        "id": "RjdHVthtYOJB"
      }
    },
    {
      "cell_type": "code",
      "source": [
        "# Create two overlapping distributions and add up to create the two Gaussian model.\n",
        "import numpy as np\n",
        "import scipy.stats as st\n",
        "import matplotlib.pyplot as plt\n",
        "\n",
        "\n",
        "# Left peak:\n",
        "mu1 = 1\n",
        "sigma1 = 0.4\n",
        "n1 = 1000\n",
        "\n",
        "# Right peak\n",
        "mu2 = 2.5\n",
        "sigma2 = 0.75\n",
        "n2 = 500\n",
        "\n",
        "left_peak = np.random.normal(mu1, sigma1, n1)\n",
        "right_peak = np.random.normal(mu2, sigma2, n2)\n",
        "\n",
        "samples = np.concatenate([left_peak, right_peak])\n",
        "\n",
        "# Plot\n",
        "nbins = 50\n",
        "counts, edges = np.histogram(samples, bins=nbins)\n",
        "xaxis = (edges[1:] + edges[:-1])/2\n",
        "n_pdf = np.divide(counts, np.trapz(counts, xaxis))\n",
        "plt.bar(xaxis, n_pdf)\n",
        "\n",
        "# labels, ets\n",
        "plt.xlabel('Tau SUVR')\n",
        "plt.ylabel('Density')\n",
        "plt.show()\n",
        "\n",
        "print(samples)\n",
        "\n"
      ],
      "metadata": {
        "colab": {
          "base_uri": "https://localhost:8080/",
          "height": 523
        },
        "id": "YM51kYYxvjMM",
        "outputId": "ab65a654-fc1e-43db-e749-0dda07fdd600"
      },
      "execution_count": 32,
      "outputs": [
        {
          "output_type": "stream",
          "name": "stderr",
          "text": [
            "/tmp/ipython-input-3525110201.py:26: DeprecationWarning: `trapz` is deprecated. Use `trapezoid` instead, or one of the numerical integration functions in `scipy.integrate`.\n",
            "  n_pdf = np.divide(counts, np.trapz(counts, xaxis))\n"
          ]
        },
        {
          "output_type": "display_data",
          "data": {
            "text/plain": [
              "<Figure size 640x480 with 1 Axes>"
            ],
            "image/png": "[encoded data removed]"
          },
          "metadata": {}
        },
        {
          "output_type": "stream",
          "name": "stdout",
          "text": [
            "[0.88142241 0.95590463 0.78072169 ... 3.07080762 1.89234513 0.500247  ]\n"
          ]
        }
      ]
    }
  ]
}