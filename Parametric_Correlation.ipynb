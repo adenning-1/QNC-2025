{
  "nbformat": 4,
  "nbformat_minor": 0,
  "metadata": {
    "colab": {
      "provenance": [],
      "authorship_tag": "ABX9TyOdP7JrEPlbor+hDXcWorOU",
      "include_colab_link": true
    },
    "kernelspec": {
      "name": "python3",
      "display_name": "Python 3"
    },
    "language_info": {
      "name": "python"
    }
  },
  "cells": [
    {
      "cell_type": "markdown",
      "metadata": {
        "id": "view-in-github",
        "colab_type": "text"
      },
      "source": [
        "<a href=\"https://colab.research.google.com/github/adenning-1/QNC-2025/blob/main/Parametric_Correlation.ipynb\" target=\"_parent\"><img src=\"https://colab.research.google.com/assets/colab-badge.svg\" alt=\"Open In Colab\"/></a>"
      ]
    },
    {
      "cell_type": "markdown",
      "source": [
        "1. Plot X vs Y. Do they look related?\n",
        "2. Calculate\n",
        " and\n",
        ", first using the equations above and then using either the Python numpy funciton corrcoef or Matlab's built-in corrcoef. Did you get the same answers?\n",
        "3. What is the standard error of\n",
        "? The 95% confidence intervals computed from the standard error?\n",
        "4. Should the value of\n",
        " be considered significant at the p<0.05 level, given a two-tailed test (i.e., we reject if the test statistic is too large on either tail of the null distribution) for\n",
        "?\n",
        "5. Yale does the exact same study and finds that his correlation value is 0.75. Is this the same as yours? That is, evaluate\n",
        ".\n",
        "6. Finally, calculate the statistical power and sample size needed to reject\n",
        "\n"
      ],
      "metadata": {
        "id": "xgQKeFMh2Npq"
      }
    },
    {
      "cell_type": "code",
      "source": [
        "# Setup measured variables\n",
        "import pandas as pd\n",
        "import matplotlib.pyplot as plt\n",
        "import numpy as np\n",
        "\n",
        "# Setup DF\n",
        "data = {\"wing\" : [10.4, 10.8, 11.1, 10.2, 10.3, 10.2, 10.7, 10.5, 10.8, 11.2, 10.6, 11.4],\n",
        "        \"tail\" : [7.4, 7.6, 7.9, 7.2, 7.4, 7.1, 7.4, 7.2, 7.8, 7.7, 7.8, 8.3]}\n",
        "data = pd.DataFrame(data)\n",
        "\n",
        "# Plot\n",
        "plt.scatter(data[\"wing\"], data[\"tail\"])\n",
        "plt.xlabel(\"Wing\")\n",
        "plt.xlabel(\"Tail\")\n",
        "plt.title(\"Wing vs Tail\")\n",
        "plt.show()"
      ],
      "metadata": {
        "colab": {
          "base_uri": "https://localhost:8080/",
          "height": 472
        },
        "id": "-SHFiUtJ2RqC",
        "outputId": "3f3f85a4-3e1e-46f3-bc09-9a5dc6af94f0"
      },
      "execution_count": 2,
      "outputs": [
        {
          "output_type": "display_data",
          "data": {
            "text/plain": [
              "<Figure size 640x480 with 1 Axes>"
            ],
            "image/png": "[encoded data removed]"
          },
          "metadata": {}
        }
      ]
    },
    {
      "cell_type": "markdown",
      "source": [
        "1) Yes, the data looks related, at least by eye, with a positive correlation."
      ],
      "metadata": {
        "id": "TzA2er_dMlEN"
      }
    },
    {
      "cell_type": "code",
      "source": [
        "# Calculate using formulas above\n",
        "def calculate_r(x, y):\n",
        "  x = np.array(x)\n",
        "  y = np.array(y)\n",
        "  x_mean = np.mean(x)\n",
        "  y_mean = np.mean(y)\n",
        "  # Numerator\n",
        "  num = np.sum((x - x_mean) * (y - y_mean))\n",
        "  # Denominator\n",
        "  denom = np.sqrt(np.sum((x - x_mean) **2)) * np.sqrt(np.sum((y - y_mean) **2))\n",
        "  r = num / denom\n",
        "  return(r)\n",
        "\n",
        "r_xy = calculate_r(data[\"wing\"], data[\"tail\"])\n",
        "print(\"Rxy = \", r_xy)\n",
        "r_yx = calculate_r(data[\"tail\"], data[\"wing\"])\n",
        "print(\"Ryx = \", r_xy)\n",
        "\n",
        "python_r_xy = np.corrcoef(data[\"wing\"], data[\"tail\"])[0, 1]\n",
        "print(\"Python Rxy = \", python_r_xy)\n"
      ],
      "metadata": {
        "colab": {
          "base_uri": "https://localhost:8080/"
        },
        "id": "lDfx_PFKMror",
        "outputId": "2b5d386f-70c2-4700-86a0-046711edeb70"
      },
      "execution_count": 3,
      "outputs": [
        {
          "output_type": "stream",
          "name": "stdout",
          "text": [
            "Rxy =  0.8703545613058227\n",
            "Ryx =  0.8703545613058227\n",
            "Python Rxy =  0.8703545613058227\n"
          ]
        }
      ]
    },
    {
      "cell_type": "markdown",
      "source": [
        "2) Yes, I get the same answers using either the above formulas or the python numpy function corrcoef."
      ],
      "metadata": {
        "id": "uwAiaIH4NWh-"
      }
    },
    {
      "cell_type": "code",
      "source": [
        "# Calculate standard error\n",
        "n = len(data[\"wing\"])\n",
        "\n",
        "sr = np.sqrt((1-r_xy**2) / (n - 2))\n",
        "print(\"Question 3: \\n\")\n",
        "print(\"standard error of the r = \", sr)\n",
        "\n",
        "# Calculate confidence intervals\n",
        "z = 0.5 * np.log((1+r_xy) / (1 - r_xy))\n",
        "sz = np.sqrt(1 / (n-3))\n",
        "z_min = z - 1.96 * sz\n",
        "z_max = z + 1.96 * sz\n",
        "r_min = (np.exp(2*z_min) - 1) / (np.exp(2*z_min) + 1)\n",
        "r_max = (np.exp(2*z_max) - 1) / (np.exp(2*z_max) + 1)\n",
        "\n",
        "print(\"95% CI: r min: \", r_min, \"r max: \", r_max)"
      ],
      "metadata": {
        "colab": {
          "base_uri": "https://localhost:8080/"
        },
        "id": "rrGhB4uDO57x",
        "outputId": "b5e7b495-8cdc-438e-8809-c93d547dd5d3"
      },
      "execution_count": 5,
      "outputs": [
        {
          "output_type": "stream",
          "name": "stdout",
          "text": [
            "Question 3: \n",
            "\n",
            "standard error of the r =  0.15571863652567375\n",
            "95% CI: r min:  0.5923032846726551 r max:  0.9631607285142775\n"
          ]
        }
      ]
    },
    {
      "cell_type": "code",
      "source": [],
      "metadata": {
        "id": "RWmsI5PKX_7-"
      },
      "execution_count": null,
      "outputs": []
    },
    {
      "cell_type": "markdown",
      "source": [
        "4) Yes, we can reject the H0 that Rx,y = 0 and consider this value statistically significant. The 95% confidence interval for the r value does not include 0, thus the test is significant at a p < 0.05 level."
      ],
      "metadata": {
        "id": "Kh_QYeCJYGHK"
      }
    },
    {
      "cell_type": "code",
      "source": [],
      "metadata": {
        "id": "jC9gu7qCYQTb"
      },
      "execution_count": null,
      "outputs": []
    },
    {
      "cell_type": "markdown",
      "source": [
        "5. No, we cannot reject Yale's hypothesis that H0 = 0.75. This value is within the 95% confidence interval for our r value, and thus we cannot reject Yale's hypothesis."
      ],
      "metadata": {
        "id": "_8hTLqOKYZav"
      }
    },
    {
      "cell_type": "code",
      "source": [
        "# Question 6: Calculate power / sample size\n",
        "from statsmodels.stats.power import NormalIndPower\n",
        "analysis = NormalIndPower()\n",
        "effect_size = np.arctanh(0.5) # this converts r value to fischer z\n",
        "\n",
        "# calculate power for n of data length\n",
        "n_given = len(data)\n",
        "power = analysis.power(effect_size=effect_size, nobs1=n_given, alpha=0.05)\n",
        "print(\"power for shown sample size: \", power)\n",
        "\n",
        "\n",
        "# Calculate n with pingouin\n",
        "import pingouin as pg\n",
        "n_needed = pg.power_corr(r = 0.5, n = None, power = 0.8, alpha = 0.05)\n",
        "print(\"n for power of 0.8: \", n_needed)"
      ],
      "metadata": {
        "colab": {
          "base_uri": "https://localhost:8080/"
        },
        "id": "WIPTWwvZYlBN",
        "outputId": "3ad2244c-9d11-4ff9-ff05-cb38fe2770c9"
      },
      "execution_count": 13,
      "outputs": [
        {
          "output_type": "stream",
          "name": "stdout",
          "text": [
            "power for shown sample size:  0.26993497472953326\n",
            "n for power of 0.8:  28.248410463212558\n"
          ]
        }
      ]
    }
  ]
}