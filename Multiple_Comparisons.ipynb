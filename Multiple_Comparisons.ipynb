{
  "cells": [
    {
      "cell_type": "markdown",
      "metadata": {
        "id": "view-in-github",
        "colab_type": "text"
      },
      "source": [
        "<a href=\"https://colab.research.google.com/github/adenning-1/QNC-2025/blob/main/Multiple_Comparisons.ipynb\" target=\"_parent\"><img src=\"https://colab.research.google.com/assets/colab-badge.svg\" alt=\"Open In Colab\"/></a>"
      ]
    },
    {
      "cell_type": "markdown",
      "metadata": {
        "id": "dJHaDCeMtjHM"
      },
      "source": [
        "[![Open In Colab](https://colab.research.google.com/assets/colab-badge.svg)](https://colab.research.google.com/github/PennNGG/Quantitative-Neuroscience/blob/master/Concepts/Python/Multiple%20Comparisons.ipynb)"
      ]
    },
    {
      "cell_type": "markdown",
      "metadata": {
        "id": "pKIiY6p3GRFq"
      },
      "source": [
        "# Definitions"
      ]
    },
    {
      "cell_type": "markdown",
      "metadata": {
        "id": "x7VmLUr5GTNw"
      },
      "source": [
        "The multiple comparisons problem in statistics occurs when multiple statistical inferences are done simultaneously, which greatly increases the probability that any one inference will yield an erroneous result, by chance. A lot has been written about this problem, including:\n",
        "\n",
        "- [Its prevalence in fMRI data analysis](https://www.sciencedirect.com/science/article/pii/S1053811912007057?via%3Dihub) (including a compelling illustration by this [prizewinning study](https://blogs.scientificamerican.com/scicurious-brain/ignobel-prize-in-neuroscience-the-dead-salmon-study/)\\)\n",
        "\n",
        "- [How Baysian methods can avoid the problem](http://www.stat.columbia.edu/~gelman/research/published/multiple2f.pdf).\n",
        "\n",
        "- [General approaches for correcting for multiple comparisons](http://www.biostathandbook.com/multiplecomparisons.html).\n",
        "\n",
        "Here we will provide some intuition for the problem using a simple thought experiment, to sensitize you to how much of a problem it can be. Consider performing the same statistical test on *N* different samples corresponding to, say, different voxels in fMRI data, using a *p*-value of $\\alpha$ (typically 0.05) for each test.\n",
        "\n",
        "Thus, for any one test, the probability of getting a Type I error (rejecting $H_0$ when $H_0$ is true) is $\\alpha$:\n",
        "\n",
        "$p_{error}=\\alpha$\n",
        "\n",
        "For two tests, the probably of getting a Type I error for either test is just one minus the combined probability of not getting a Type I error from either one:\n",
        "\n",
        "$p_{error}=1-(1-\\alpha)(1-\\alpha)$\n",
        "\n",
        "For *N* tests, the probably of getting a Type I error for either test is just one minus the combined probability of not getting a Type I error from any one:\n",
        "\n",
        "$p_{error}=1-(1-\\alpha)^N$\n",
        "\n",
        "Run the cell below to see that the probability of getting a Type I error under these conditions grows rapidly with *N*, implying that it becomes very, very likely that you will get a \"statistically significant result\" just by chance if you do enough tests:"
      ]
    },
    {
      "cell_type": "code",
      "execution_count": 1,
      "metadata": {
        "colab": {
          "base_uri": "https://localhost:8080/",
          "height": 467
        },
        "id": "2hOkXUd67ulE",
        "outputId": "12606c2f-6aa0-4fba-cc92-a32621bc37d1"
      },
      "outputs": [
        {
          "output_type": "execute_result",
          "data": {
            "text/plain": [
              "Text(0, 0.5, '$P_{error}$')"
            ]
          },
          "metadata": {},
          "execution_count": 1
        },
        {
          "output_type": "display_data",
          "data": {
            "text/plain": [
              "<Figure size 640x480 with 1 Axes>"
            ],
            "image/png": "[encoded data removed]"
          },
          "metadata": {}
        }
      ],
      "source": [
        "import matplotlib.pyplot as plt\n",
        "import numpy as np\n",
        "\n",
        "alpha = 0.05\n",
        "N = np.arange(0,100)\n",
        "plt.plot(N, 1-(1-alpha)**N)\n",
        "plt.xlabel('N')\n",
        "plt.ylabel('$P_{error}$')"
      ]
    },
    {
      "cell_type": "markdown",
      "metadata": {
        "id": "mzkMd-fc9cVM"
      },
      "source": [
        "# Correcting for multiple comparisons"
      ]
    },
    {
      "cell_type": "markdown",
      "metadata": {
        "id": "ncsvEVZB9gNS"
      },
      "source": [
        "\n",
        "\n",
        "There are a number of different methods that can be used to [correct for this problem](https://www.ncbi.nlm.nih.gov/pmc/articles/PMC5506159/). Below are two common methods.\n",
        "\n",
        "\n"
      ]
    },
    {
      "cell_type": "markdown",
      "metadata": {
        "id": "S7_LgTOk9sPr"
      },
      "source": [
        "## Bonferroni correction"
      ]
    },
    {
      "cell_type": "markdown",
      "metadata": {
        "id": "-N0vdWBq9vNU"
      },
      "source": [
        "The simplest way to correct for Type I errors (false positives) in multiple comparisons is to divide $\\alpha$ by the number of comparisons, known as the [Bonferroni correction](https://mathworld.wolfram.com/BonferroniCorrection.html). This is a very conservative test that is typically used when the number of comparisons is relatively small and you want to avoid Type I errors."
      ]
    },
    {
      "cell_type": "markdown",
      "metadata": {
        "id": "_YxAlI859900"
      },
      "source": [
        "## Benjamini–Hochberg procedure\n"
      ]
    },
    {
      "cell_type": "markdown",
      "metadata": {
        "id": "dSE9u8cN-A9U"
      },
      "source": [
        "Another approach is to more carefully control the false-discovery rate using the [Benjamini–Hochberg procedure](https://www.jstor.org/stable/2346101?seq=1#metadata_info_tab_contents):\n",
        "\n",
        "1\\. Rank the individual *p*-values in ascending order, labeled *i*=1...*n*\n",
        "\n",
        "2\\. For each *p*-value, calculate its \"critical value\" as (*i*/*n*)*Q*, where *i* is the rank, *n* is the total number of tests, and *Q* is the false discovery rate (a percentage) that you choose (typically 0.05).\n",
        "\n",
        "3\\. In your rank-ordered, original *p*-values, find the largest value that is smaller than its associated critical value; this *p*-value is the new criterion (i.e., reject $H_0$ for all cases for which *p* ≤ this value)."
      ]
    },
    {
      "cell_type": "markdown",
      "metadata": {
        "id": "VINW4DZDtjHP"
      },
      "source": [
        "# Exercise"
      ]
    },
    {
      "cell_type": "markdown",
      "metadata": {
        "id": "WJ2SgythtjHP"
      },
      "source": [
        "In this exercise we will run through an example of correcting for multiple comparisons with both the Benjamini-Hochberg procedure and the more conservative Bonferroni correction.\n",
        "\n",
        "First, simulate multiple (say, 1000) t-tests comparing two samples with equal means and standard deviations, and save the p-values. Obviously, at p<0.05 we expect that ~5% of the simulations to yield a \"statistically significant\" result (of rejecting the NULL hypothesis that the samples come from distributions with equal means).\n",
        "\n",
        "Second, once you have the simulated p-values, apply both methods to address the multiple comparisons problem.\n",
        "\n",
        "Third, set the sample 1 and sample 2 means to be 1 and 2 respectively, and re-run the exercise. What do you notice? What if you make the difference between means even greater?"
      ]
    },
    {
      "cell_type": "code",
      "source": [
        "import numpy as np\n",
        "import scipy.stats as st\n",
        "\n",
        "\n",
        "n_ttests = 1000 # Number of t-tests to run\n",
        "mu = 1 # true mean\n",
        "sd = 0.5 # true sd\n",
        "n_sims = 1000 # N in each sample\n",
        "\n",
        "pvalues = [] # Initialize\n",
        "\n",
        "# Generate p-values\n",
        "for n in range(n_ttests):\n",
        "    sample1 = np.random.normal(loc = mu, scale = sd, size = n_sims)\n",
        "    sample2 = np.random.normal(loc = mu, scale = sd, size = n_sims)\n",
        "    _, p_value = st.ttest_ind(sample1, sample2)\n",
        "    pvalues.append(p_value)\n"
      ],
      "metadata": {
        "id": "c7Oe7yNxtznt"
      },
      "execution_count": 2,
      "outputs": []
    },
    {
      "cell_type": "code",
      "source": [
        "# Plot to visualize the frequency of the p-values\n",
        "plt.hist(pvalues, bins = 20)\n",
        "plt.xlabel(\"p value\")\n",
        "plt.ylabel(\"frequency\")\n",
        "alpha = 0.05\n",
        "\n",
        "pvalues = np.array(pvalues)\n",
        "\n",
        "# Count how many are less than 5%\n",
        "print(f\"Number of simulations that are 'statistically significant at alpha = {alpha}': \\n {sum(pvalues < alpha)} out of {n_ttests}, or {sum(pvalues < alpha) / n_ttests * 100}%\")"
      ],
      "metadata": {
        "colab": {
          "base_uri": "https://localhost:8080/",
          "height": 485
        },
        "id": "R8cVvSY4wjva",
        "outputId": "ed84c14f-d4db-4fc5-c97d-3ced9810a344"
      },
      "execution_count": 3,
      "outputs": [
        {
          "output_type": "stream",
          "name": "stdout",
          "text": [
            "Number of simulations that are 'statistically significant at alpha = 0.05': \n",
            " 61 out of 1000, or 6.1%\n"
          ]
        },
        {
          "output_type": "display_data",
          "data": {
            "text/plain": [
              "<Figure size 640x480 with 1 Axes>"
            ],
            "image/png": "[encoded data removed]"
          },
          "metadata": {}
        }
      ]
    },
    {
      "cell_type": "code",
      "source": [
        "# Bonferroni\n",
        "alpha_bonf = alpha / n_ttests\n",
        "print(f\"Number of simulations that are 'statistically significant at Bonferoni corrected alpha = {alpha_bonf}': \\n  {sum(pvalues < alpha_bonf)} out of {n_ttests}, or {sum(pvalues < alpha_bonf) / n_ttests * 100}%\")\n"
      ],
      "metadata": {
        "colab": {
          "base_uri": "https://localhost:8080/"
        },
        "id": "Sp4_uamjxJ0k",
        "outputId": "9aeead18-7483-45c6-baaf-120e10a9ef64"
      },
      "execution_count": 4,
      "outputs": [
        {
          "output_type": "stream",
          "name": "stdout",
          "text": [
            "Number of simulations that are 'statistically significant at Bonferoni corrected alpha = 5e-05': \n",
            "  0 out of 1000, or 0.0%\n"
          ]
        }
      ]
    },
    {
      "cell_type": "code",
      "source": [],
      "metadata": {
        "id": "4ZQ9MxO50iHE"
      },
      "execution_count": 4,
      "outputs": []
    },
    {
      "cell_type": "code",
      "source": [
        "# Benjamini–Hochberg procedure\n",
        "# Sort\n",
        "pvalues_sorted = np.sort(pvalues)\n",
        "# Loop thorugh each p value\n",
        "n = n_ttests # total number of tests\n",
        "Q = 0.05\n",
        "BH_critical = []\n",
        "criterion = 0\n",
        "for indx in range(len(pvalues_sorted)):\n",
        "  # calculate critical index\n",
        "  pval = pvalues_sorted[indx] # get the p value\n",
        "  #print(\"p value\", pval)\n",
        "  i = indx + 1 # get it's rank (pvalues is now in order, add 1 because python indexes base 0)\n",
        "  critical_value = (i/n)*Q\n",
        "  #print(\"critical value\", critical_value)\n",
        "  BH_critical.append(critical_value)\n",
        "  # Check if pvalue is smaller than critical\n",
        "  difference = critical_value - pval\n",
        "  #print(\"difference: \", difference)\n",
        "  # If the difference is positive (pvalue smaller)\n",
        "  if (difference > 0):\n",
        "    # if the pvalue is bigger than criterion, replace criterion\n",
        "    if(pval > criterion):\n",
        "      criterion = pval\n",
        "\n",
        "\n",
        "# Now count how many p values are less than criterion\n",
        "print(f\"Number of simulations that are statistically significant after Benjami-Hochberg procedure: \\n  {sum(pvalues < criterion)} out of {n_ttests}, or {sum(pvalues < criterion) / n_ttests  * 100}%\")\n",
        "\n",
        "\n",
        "\n"
      ],
      "metadata": {
        "colab": {
          "base_uri": "https://localhost:8080/"
        },
        "id": "oA4eX9D9xgvy",
        "outputId": "bf334330-cf67-427b-c03a-98f1849eecce"
      },
      "execution_count": 5,
      "outputs": [
        {
          "output_type": "stream",
          "name": "stdout",
          "text": [
            "Number of simulations that are statistically significant after Benjami-Hochberg procedure: \n",
            "  0 out of 1000, or 0.0%\n"
          ]
        }
      ]
    },
    {
      "cell_type": "code",
      "source": [
        "# Define a function to do this with any given sample mean\n",
        "def multiple_comparisons_exercise(mean1, mean2, sd, n_ttests, alpha):\n",
        "  print(f\"sample 1 mean: {mean1}, sample 2 mean: {mean2}\")\n",
        "\n",
        "  pvalues = []\n",
        "\n",
        "  # Generate p-values\n",
        "  for n in range(n_ttests):\n",
        "      sample1 = np.random.normal(loc = mean1, scale = sd, size = 1000)\n",
        "      sample2 = np.random.normal(loc = mean2, scale = sd, size = 1000)\n",
        "      _, p_value = st.ttest_ind(sample1, sample2)\n",
        "      pvalues.append(p_value)\n",
        "  pvalues = np.array(pvalues)\n",
        "\n",
        "  # Count how many are less than 5%\n",
        "  print(f\"Number of simulations that are 'statistically significant at alpha = {alpha}': \\n {sum(pvalues < alpha)} out of {n_ttests}, or {sum(pvalues < alpha) / n_ttests * 100}%\")\n",
        "\n",
        "  # Bonferroni\n",
        "  alpha_bonf = alpha / n_ttests\n",
        "  print(f\"Number of simulations that are 'statistically significant at Bonferoni corrected alpha = {alpha_bonf}': \\n  {sum(pvalues < alpha_bonf)} out of {n_ttests}, or {sum(pvalues < alpha_bonf) / n_ttests * 100}%\")\n",
        "\n",
        "  # Benjamini–Hochberg procedure\n",
        "  # Sort\n",
        "  pvalues_sorted = np.sort(pvalues)\n",
        "  # Loop thorugh each p value\n",
        "  n = n_ttests # total number of tests\n",
        "  Q = 0.05\n",
        "  BH_critical = []\n",
        "  criterion = 0\n",
        "  for indx in range(len(pvalues_sorted)):\n",
        "    # calculate critical index\n",
        "    pval = pvalues_sorted[indx] # get the p value\n",
        "    #print(\"p value\", pval)\n",
        "    i = indx + 1 # get it's rank (pvalues is now in order, add 1 because python indexes base 0)\n",
        "    critical_value = (i/n)*Q\n",
        "    #print(\"critical value\", critical_value)\n",
        "    BH_critical.append(critical_value)\n",
        "    # if the pval is smaller than the critical, rewrite the criteron (this will always be the highest p that does because we are looping ascending)\n",
        "    if pval <= critical_value:\n",
        "      criterion = pval\n",
        "\n",
        "\n",
        "  # Now count how many p values are less than criterion\n",
        "  print(f\"Number of simulations that are statistically significant after Benjami-Hochberg procedure: \\n  {sum(pvalues <= criterion)} out of {n_ttests}, or {sum(pvalues <= criterion) / n_ttests * 100}% \\n\")\n",
        "\n",
        "\n"
      ],
      "metadata": {
        "id": "Lh1oj2G34vFN"
      },
      "execution_count": 6,
      "outputs": []
    },
    {
      "cell_type": "code",
      "source": [
        "\n",
        "multiple_comparisons_exercise(mean1 = 1,\n",
        "                              mean2 = 1,\n",
        "                              sd = 10,\n",
        "                              n_ttests = 1000,\n",
        "                              alpha = 0.05)\n",
        "multiple_comparisons_exercise(mean1 = 1,\n",
        "                              mean2 = 2,\n",
        "                              sd = 10,\n",
        "                              n_ttests = 1000,\n",
        "                              alpha = 0.05)\n",
        "multiple_comparisons_exercise(mean1 = 1,\n",
        "                              mean2 = 3,\n",
        "                              sd = 10,\n",
        "                              n_ttests = 1000,\n",
        "                              alpha = 0.05)\n",
        "multiple_comparisons_exercise(mean1 = 1,\n",
        "                              mean2 = 4,\n",
        "                              sd = 10,\n",
        "                              n_ttests = 1000,\n",
        "                              alpha = 0.05)\n"
      ],
      "metadata": {
        "colab": {
          "base_uri": "https://localhost:8080/"
        },
        "id": "xe5MluUI5KLL",
        "outputId": "5e43a1e1-4676-417e-98a3-e4fcf3833d74"
      },
      "execution_count": 7,
      "outputs": [
        {
          "output_type": "stream",
          "name": "stdout",
          "text": [
            "sample 1 mean: 1, sample 2 mean: 1\n",
            "Number of simulations that are 'statistically significant at alpha = 0.05': \n",
            " 54 out of 1000, or 5.4%\n",
            "Number of simulations that are 'statistically significant at Bonferoni corrected alpha = 5e-05': \n",
            "  0 out of 1000, or 0.0%\n",
            "Number of simulations that are statistically significant after Benjami-Hochberg procedure: \n",
            "  0 out of 1000, or 0.0% \n",
            "\n",
            "sample 1 mean: 1, sample 2 mean: 2\n",
            "Number of simulations that are 'statistically significant at alpha = 0.05': \n",
            " 621 out of 1000, or 62.1%\n",
            "Number of simulations that are 'statistically significant at Bonferoni corrected alpha = 5e-05': \n",
            "  34 out of 1000, or 3.4000000000000004%\n",
            "Number of simulations that are statistically significant after Benjami-Hochberg procedure: \n",
            "  521 out of 1000, or 52.1% \n",
            "\n",
            "sample 1 mean: 1, sample 2 mean: 3\n",
            "Number of simulations that are 'statistically significant at alpha = 0.05': \n",
            " 997 out of 1000, or 99.7%\n",
            "Number of simulations that are 'statistically significant at Bonferoni corrected alpha = 5e-05': \n",
            "  649 out of 1000, or 64.9%\n",
            "Number of simulations that are statistically significant after Benjami-Hochberg procedure: \n",
            "  997 out of 1000, or 99.7% \n",
            "\n",
            "sample 1 mean: 1, sample 2 mean: 4\n",
            "Number of simulations that are 'statistically significant at alpha = 0.05': \n",
            " 1000 out of 1000, or 100.0%\n",
            "Number of simulations that are 'statistically significant at Bonferoni corrected alpha = 5e-05': \n",
            "  997 out of 1000, or 99.7%\n",
            "Number of simulations that are statistically significant after Benjami-Hochberg procedure: \n",
            "  1000 out of 1000, or 100.0% \n",
            "\n"
          ]
        }
      ]
    },
    {
      "cell_type": "markdown",
      "source": [
        "As the difference in the mean gets larger, the two approaches are similar. With no true difference in mean, both methods show no significant results. With a small difference in means, Bonferroni correction is much stricter, and only 34 simulations are significant compared to 521 for BH correction. As the difference in means increases, both methods produce a higher proportion of simulations considered statistically significant. This result shows that Bonferroni correction is much stricter with a small difference in means than BH correction."
      ],
      "metadata": {
        "id": "8cvHxkRC7_IA"
      }
    },
    {
      "cell_type": "markdown",
      "metadata": {
        "id": "UqoNXyuxP-go"
      },
      "source": [
        "# Additional Resources\n"
      ]
    },
    {
      "cell_type": "markdown",
      "metadata": {
        "id": "clnBO4FU28El"
      },
      "source": [
        "How to correct for multiple comparisons in [Matlab](https://www.mathworks.com/help/stats/multcompare.html), [R](https://stat.ethz.ch/R-manual/R-devel/library/stats/html/p.adjust.html), and [Python](https://www.statsmodels.org/dev/generated/statsmodels.stats.multitest.multipletests.html)"
      ]
    },
    {
      "cell_type": "markdown",
      "metadata": {
        "id": "tteEm2Qlgbb3"
      },
      "source": [
        "# Credits\n",
        "\n",
        "Copyright 2021 by Joshua I. Gold, University of Pennsylvania"
      ]
    }
  ],
  "metadata": {
    "colab": {
      "provenance": [],
      "generative_ai_disabled": true,
      "include_colab_link": true
    },
    "kernelspec": {
      "display_name": "Python 3",
      "name": "python3"
    },
    "language_info": {
      "name": "python",
      "version": "3.9.6"
    },
    "vscode": {
      "interpreter": {
        "hash": "aee8b7b246df8f9039afb4144a1f6fd8d2ca17a180786b69acc140d282b71a49"
      }
    }
  },
  "nbformat": 4,
  "nbformat_minor": 0
}